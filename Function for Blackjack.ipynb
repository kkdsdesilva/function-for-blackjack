{
 "cells": [
  {
   "cell_type": "code",
   "execution_count": 1,
   "id": "c3c5bebf",
   "metadata": {},
   "outputs": [],
   "source": [
    "def blackjack_hand_greater_than(hand_1, hand_2):\n",
    "    \"\"\"\n",
    "    Return True if hand_1 beats hand_2, and False otherwise.\n",
    "    \n",
    "    In order for hand_1 to beat hand_2 the following must be true:\n",
    "    - The total of hand_1 must not exceed 21\n",
    "    - The total of hand_1 must exceed the total of hand_2 OR hand_2's total must exceed 21\n",
    "    \n",
    "    Hands are represented as a list of cards. Each card is represented by a string.\n",
    "    \n",
    "    When adding up a hand's total, cards with numbers count for that many points. Face\n",
    "    cards ('J', 'Q', and 'K') are worth 10 points. 'A' can count for 1 or 11.\n",
    "    \n",
    "    When determining a hand's total, you should try to count aces in the way that \n",
    "    maximizes the hand's total without going over 21. e.g. the total of ['A', 'A', '9'] is 21,\n",
    "    the total of ['A', 'A', '9', '3'] is 14.\n",
    "    \n",
    "    Examples:\n",
    "    >>> blackjack_hand_greater_than(['K'], ['3', '4'])\n",
    "    True\n",
    "    >>> blackjack_hand_greater_than(['K'], ['10'])\n",
    "    False\n",
    "    >>> blackjack_hand_greater_than(['K', 'K', '2'], ['3'])\n",
    "    False\n",
    "    \"\"\"\n",
    "    Dict1 = dict.fromkeys({'K','Q','J'}, 10)\n",
    "    Dict2 = {k:v for (k,v) in zip([str(i) for i in range(2,11)],[i for i in range(2,11)])}\n",
    "    Dict = {**Dict1, **Dict2, 'A':11}\n",
    "    def hand_value(hand):\n",
    "        L = list(map(int, list(map(Dict.get, hand))))\n",
    "        total = sum(L)\n",
    "        if total <= 21:\n",
    "            return total\n",
    "        elif 11 in L:\n",
    "            j=0\n",
    "            for i in L:\n",
    "                if i==11:\n",
    "                    j+=1\n",
    "            for k in range(j):\n",
    "                total -= 10\n",
    "                if total<=21:\n",
    "                    return total\n",
    "            return 0\n",
    "        else: return 0\n",
    "    \n",
    "    h1 = hand_value(hand_1)\n",
    "    h2 = hand_value(hand_2)\n",
    "    \n",
    "    return h1>h2 "
   ]
  },
  {
   "cell_type": "code",
   "execution_count": 3,
   "id": "53888079",
   "metadata": {},
   "outputs": [
    {
     "data": {
      "text/plain": [
       "True"
      ]
     },
     "execution_count": 3,
     "metadata": {},
     "output_type": "execute_result"
    }
   ],
   "source": [
    "blackjack_hand_greater_than(['K','6','5'],['A','6','5'])"
   ]
  },
  {
   "cell_type": "code",
   "execution_count": 4,
   "id": "10461efc",
   "metadata": {},
   "outputs": [
    {
     "data": {
      "text/plain": [
       "False"
      ]
     },
     "execution_count": 4,
     "metadata": {},
     "output_type": "execute_result"
    }
   ],
   "source": [
    "blackjack_hand_greater_than(['A','K','6','5'],['A','6','5'])"
   ]
  }
 ],
 "metadata": {
  "kernelspec": {
   "display_name": "Python 3 (ipykernel)",
   "language": "python",
   "name": "python3"
  },
  "language_info": {
   "codemirror_mode": {
    "name": "ipython",
    "version": 3
   },
   "file_extension": ".py",
   "mimetype": "text/x-python",
   "name": "python",
   "nbconvert_exporter": "python",
   "pygments_lexer": "ipython3",
   "version": "3.9.12"
  }
 },
 "nbformat": 4,
 "nbformat_minor": 5
}
